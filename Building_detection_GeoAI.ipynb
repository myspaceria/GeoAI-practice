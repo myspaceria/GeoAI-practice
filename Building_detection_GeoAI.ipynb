{
  "nbformat": 4,
  "nbformat_minor": 0,
  "metadata": {
    "colab": {
      "provenance": [],
      "gpuType": "V28"
    },
    "kernelspec": {
      "name": "python3",
      "display_name": "Python 3"
    },
    "language_info": {
      "name": "python"
    },
    "accelerator": "TPU"
  },
  "cells": [
    {
      "cell_type": "code",
      "execution_count": null,
      "metadata": {
        "collapsed": true,
        "id": "jylhdysczTrK"
      },
      "outputs": [],
      "source": [
        "%pip install geoai-py"
      ]
    },
    {
      "cell_type": "code",
      "metadata": {
        "id": "4c2900c7",
        "collapsed": true
      },
      "source": [
        "!apt-get update\n",
        "!apt-get install gdal-bin -y"
      ],
      "execution_count": null,
      "outputs": []
    },
    {
      "cell_type": "code",
      "source": [
        "import os\n",
        "import geoai"
      ],
      "metadata": {
        "id": "JZ2ZGfYN1aM9"
      },
      "execution_count": null,
      "outputs": []
    },
    {
      "cell_type": "code",
      "source": [
        "train_aerial_url = \"https://huggingface.co/datasets/giswqs/geospatial/resolve/main/las_vegas_train_naip.tif\"\n",
        "train_LiDAR_url = \"https://huggingface.co/datasets/giswqs/geospatial/resolve/main/las_vegas_train_hag.tif\"\n",
        "train_building_url = \"https://huggingface.co/datasets/giswqs/geospatial/resolve/main/las_vegas_buildings_train.geojson\"\n",
        "test_aerial_url = \"https://huggingface.co/datasets/giswqs/geospatial/resolve/main/las_vegas_test_naip.tif\"\n",
        "test_LiDAR_url = \"https://huggingface.co/datasets/giswqs/geospatial/resolve/main/las_vegas_test_hag.tif\""
      ],
      "metadata": {
        "id": "oj41uIVt1lVa"
      },
      "execution_count": null,
      "outputs": []
    },
    {
      "cell_type": "code",
      "source": [
        "train_aerial_path = geoai.download_file(train_aerial_url)\n",
        "train_LiDAR_path = geoai.download_file(train_LiDAR_url)\n",
        "train_building_path = geoai.download_file(train_building_url)\n",
        "test_aerial_path = geoai.download_file(test_aerial_url)\n",
        "test_LiDAR_path = geoai.download_file(test_LiDAR_url)"
      ],
      "metadata": {
        "collapsed": true,
        "id": "2xFbnOGH1qcv"
      },
      "execution_count": null,
      "outputs": []
    },
    {
      "cell_type": "code",
      "source": [
        "from geoai.utils import view_image, view_raster, dict_to_image\n",
        "view_image(train_aerial_path)"
      ],
      "metadata": {
        "id": "HH3hefFsDEnj",
        "collapsed": true
      },
      "execution_count": null,
      "outputs": []
    },
    {
      "cell_type": "code",
      "source": [
        "os.environ[\"TITILER_ENDPOINT\"] = \"https://titiler.xyz\""
      ],
      "metadata": {
        "id": "3Sx3G4t22hQs"
      },
      "execution_count": null,
      "outputs": []
    },
    {
      "cell_type": "code",
      "source": [
        "geoai.view_vector_interactive(train_building_path, tiles=train_aerial_url)"
      ],
      "metadata": {
        "id": "1x7ZtKqM3_79",
        "collapsed": true
      },
      "execution_count": null,
      "outputs": []
    },
    {
      "cell_type": "code",
      "source": [
        "geoai.view_vector_interactive(train_building_path, tiles=train_LiDAR_url)"
      ],
      "metadata": {
        "id": "5pdjQQtK4g1e",
        "collapsed": true
      },
      "execution_count": null,
      "outputs": []
    },
    {
      "cell_type": "code",
      "source": [
        "train_raster_path = \"las_vegas_train_naip_hag.tif\"\n",
        "geoai.stack_bands(\n",
        "    input_files=[train_aerial_path, train_LiDAR_path],\n",
        "    output_file=train_raster_path,\n",
        "    resolution=None,  # Automatically inferred from first image\n",
        "    overwrite=True,\n",
        "    dtype=\"Byte\",  # or \"UInt16\", \"Float32\"\n",
        ")"
      ],
      "metadata": {
        "id": "CDIspDoL5FnD"
      },
      "execution_count": null,
      "outputs": []
    },
    {
      "cell_type": "code",
      "source": [
        "test_raster_path = \"las_vegas_test_naip_hag.tif\"\n",
        "geoai.stack_bands(\n",
        "    input_files=[test_aerial_path, test_LiDAR_path],\n",
        "    output_file=test_raster_path,\n",
        "    resolution=None,  # Automatically inferred from first image\n",
        "    overwrite=True,\n",
        "    dtype=\"Byte\",  # or \"UInt16\", \"Float32\"\n",
        ")"
      ],
      "metadata": {
        "id": "1vJqcij59VAs"
      },
      "execution_count": null,
      "outputs": []
    },
    {
      "cell_type": "code",
      "source": [
        "out_folder = \"buildings\"\n",
        "tiles = geoai.export_geotiff_tiles(\n",
        "    in_raster=train_raster_path,\n",
        "    out_folder=out_folder,\n",
        "    in_class_data=train_building_path,\n",
        "    tile_size=512,\n",
        "    stride=256,\n",
        "    buffer_radius=0,\n",
        ")"
      ],
      "metadata": {
        "id": "U_DFicaM9g2T",
        "collapsed": true
      },
      "execution_count": null,
      "outputs": []
    },
    {
      "cell_type": "code",
      "source": [
        "view_image(train_raster_path)"
      ],
      "metadata": {
        "id": "DSDY1gwmAG6x",
        "collapsed": true
      },
      "execution_count": null,
      "outputs": []
    },
    {
      "cell_type": "code",
      "source": [
        "# Train U-Net model\n",
        "geoai.train_segmentation_model(\n",
        "    images_dir=f\"{out_folder}/images\",\n",
        "    labels_dir=f\"{out_folder}/labels\",\n",
        "    output_dir=f\"{out_folder}/unet_models\",\n",
        "    architecture=\"unet\",\n",
        "    encoder_name=\"resnet34\",\n",
        "    encoder_weights=\"imagenet\",\n",
        "    num_channels=5,\n",
        "    num_classes=2,  # background and building\n",
        "    batch_size=8,\n",
        "    num_epochs=50,\n",
        "    learning_rate=0.001,\n",
        "    val_split=0.2,\n",
        "    verbose=True,\n",
        ")"
      ],
      "metadata": {
        "id": "ULpEPBfCD9jX",
        "collapsed": true
      },
      "execution_count": null,
      "outputs": []
    },
    {
      "cell_type": "code",
      "source": [
        "geoai.plot_performance_metrics(\n",
        "    history_path=f\"{out_folder}/unet_models/training_history.pth\",\n",
        "    figsize=(15, 5),\n",
        "    verbose=True,\n",
        ")"
      ],
      "metadata": {
        "id": "eIbwcxuPYPtk"
      },
      "execution_count": null,
      "outputs": []
    },
    {
      "cell_type": "markdown",
      "source": [
        "**Performance metrics include**\n",
        "\n",
        "1.   IoU (Intersection over union) or the Jaccard Index which measures the overlap between predicted region *A* and ground truth region *B* relative to their union, and\n",
        "2.   Dice Score which measures\n",
        "the overlap between *A* and *B*, but gives more weight to the intersection.\n"
      ],
      "metadata": {
        "id": "06EjFV5Aoeee"
      }
    },
    {
      "cell_type": "code",
      "source": [
        "# Define paths\n",
        "masks_path = \"building_masks.tif\"\n",
        "model_path = f\"{out_folder}/unet_models/best_model.pth\""
      ],
      "metadata": {
        "id": "-iYdpM0eYW7i"
      },
      "execution_count": null,
      "outputs": []
    },
    {
      "cell_type": "code",
      "source": [
        "# Run semantic segmentation inference\n",
        "geoai.semantic_segmentation(\n",
        "    input_path=test_raster_path,\n",
        "    output_path=masks_path,\n",
        "    model_path=model_path,\n",
        "    architecture=\"unet\",\n",
        "    encoder_name=\"resnet34\",\n",
        "    num_channels=5,\n",
        "    num_classes=2,\n",
        "    window_size=512,\n",
        "    overlap=256,\n",
        "    batch_size=8,\n",
        ")"
      ],
      "metadata": {
        "id": "zbErkuA7Yb-d"
      },
      "execution_count": null,
      "outputs": []
    },
    {
      "cell_type": "code",
      "source": [
        "output_vector_path = \"building_masks.geojson\"\n",
        "gdf = geoai.orthogonalize(masks_path, output_vector_path, epsilon=2)"
      ],
      "metadata": {
        "id": "2df9DltjZ7KR"
      },
      "execution_count": null,
      "outputs": []
    },
    {
      "cell_type": "code",
      "source": [
        "gdf_props = geoai.add_geometric_properties(gdf, area_unit=\"m2\", length_unit=\"m\")\n",
        "print(f\"Number of buildings: {len(gdf_props)}\")"
      ],
      "metadata": {
        "id": "BwEZ1Cr4aA5S"
      },
      "execution_count": null,
      "outputs": []
    },
    {
      "cell_type": "code",
      "source": [
        "geoai.view_raster(masks_path, nodata=0, basemap=test_aerial_url, backend=\"ipyleaflet\")"
      ],
      "metadata": {
        "id": "q-Zmz1idbnIT"
      },
      "execution_count": null,
      "outputs": []
    },
    {
      "cell_type": "code",
      "source": [
        "geoai.view_vector_interactive(gdf_props, column=\"area_m2\", tiles=test_aerial_url)"
      ],
      "metadata": {
        "collapsed": true,
        "id": "Kj9SAxl9b92C"
      },
      "execution_count": null,
      "outputs": []
    },
    {
      "cell_type": "code",
      "source": [
        "gdf_filtered = gdf_props[(gdf_props[\"area_m2\"] > 50)]\n",
        "print(f\"Number of buildings: {len(gdf_filtered)}\")\n",
        "geoai.view_vector_interactive(gdf_filtered, column=\"area_m2\", tiles=test_aerial_url)"
      ],
      "metadata": {
        "id": "f2ta0Jchcx0c"
      },
      "execution_count": null,
      "outputs": []
    },
    {
      "cell_type": "code",
      "source": [
        "geoai.create_split_map(\n",
        "    left_layer=gdf_filtered,\n",
        "    right_layer=test_aerial_path,\n",
        "    left_args={\"style\": {\"color\": \"red\", \"fillOpacity\": 0.2}},\n",
        "    basemap=test_aerial_path,\n",
        ")"
      ],
      "metadata": {
        "id": "OkITRjvXdEtB"
      },
      "execution_count": null,
      "outputs": []
    },
    {
      "cell_type": "code",
      "source": [
        "from google.colab import output\n",
        "output.enable_custom_widget_manager()"
      ],
      "metadata": {
        "id": "MzCwFHVaie3v"
      },
      "execution_count": null,
      "outputs": []
    },
    {
      "cell_type": "markdown",
      "source": [
        "Support for third party widgets will remain active for the duration of the session. To disable support:"
      ],
      "metadata": {
        "id": "fDdD3ib5ie31"
      }
    },
    {
      "cell_type": "code",
      "source": [
        "from google.colab import output\n",
        "output.disable_custom_widget_manager()"
      ],
      "metadata": {
        "id": "pHx3I3jAie32"
      },
      "execution_count": null,
      "outputs": []
    },
    {
      "cell_type": "markdown",
      "source": [
        "Support for third party widgets will remain active for the duration of the session. To disable support:"
      ],
      "metadata": {
        "id": "OFc2-rbpbv29"
      }
    }
  ]
}